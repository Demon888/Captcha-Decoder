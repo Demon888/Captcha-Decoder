{
 "cells": [
  {
   "cell_type": "code",
   "execution_count": 1,
   "metadata": {
    "collapsed": false
   },
   "outputs": [
    {
     "name": "stderr",
     "output_type": "stream",
     "text": [
      "/usr/lib/pymodules/python2.7/matplotlib/__init__.py:923: UserWarning:  This call to matplotlib.use() has no effect\n",
      "because the the backend has already been chosen;\n",
      "matplotlib.use() must be called *before* pylab, matplotlib.pyplot,\n",
      "or matplotlib.backends is imported for the first time.\n",
      "\n",
      "  if warn: warnings.warn(_use_error_msg)\n"
     ]
    }
   ],
   "source": [
    "%matplotlib inline\n",
    "\n",
    "import matplotlib as mpl\n",
    "mpl.use('Agg')\n",
    "from matplotlib.pyplot import imshow"
   ]
  },
  {
   "cell_type": "code",
   "execution_count": 2,
   "metadata": {
    "collapsed": false
   },
   "outputs": [
    {
     "name": "stdout",
     "output_type": "stream",
     "text": [
      "The output file is available at /home/geetika/mode.png\n"
     ]
    },
    {
     "name": "stderr",
     "output_type": "stream",
     "text": [
      "/usr/local/lib/python2.7/dist-packages/theano/scan_module/scan.py:1019: Warning: In the strict mode, all neccessary shared variables must be passed as a part of non_sequences\n",
      "  'must be passed as a part of non_sequences', Warning)\n"
     ]
    }
   ],
   "source": [
    "import model\n",
    "from model.captcha_cracker import CaptchaCracker\n",
    "\n",
    "\n",
    "msoftmax_model_params_prefix = '/home/geetika/captcha/dataset_ssd_1T/complexdataset_nvocab/msoftmax'\n",
    "lstm_model_params_prefix = '/home/geetika/captcha/dataset_ssd_1T/complexdataset_nvocab/lstm'\n",
    "cracker = model.captcha_cracker.CaptchaCracker(lstm_model_params_prefix,graph_file_path = \"/home/geetika/mode\", multi_chars=True, num_softmaxes=None)\n",
    "\n",
    "import os\n",
    "from PIL import Image\n",
    "import numpy\n",
    "import random\n",
    "\n",
    "image_dir = '/home/geetika/captcha/dataset_ssd_1T/complex_mix_dataset/'\n",
    "#image_dir = \"/home/geetika/captcha/dataset/mix_training_data/Captcha-Decoder/dataset/\"\n",
    "import model\n",
    "files = os.listdir(image_dir)"
   ]
  },
  {
   "cell_type": "code",
   "execution_count": null,
   "metadata": {
    "collapsed": false,
    "scrolled": false
   },
   "outputs": [],
   "source": [
    "file_path = os.path.join(image_dir, random.choice(files))\n",
    "#file_path = (\"/home/geetika/cap.jpg\")\n",
    "print file_path\n",
    "\n",
    "# Converted image.\n",
    "#imshow(numpy.asarray(Image.open(file_path1).convert('L')))\n",
    "imshow(numpy.asarray(Image.open(file_path).convert('L')))\n",
    "\n",
    "predicted_chars, char_probabilities = cracker.InferFromImagePath(file_path)\n",
    "\n",
    "print \"\".join(x for x in predicted_chars)\n",
    "\n",
    "for i in range(len(predicted_chars)):\n",
    "    print 'predicted_char= {0}'.format(predicted_chars[i])\n",
    "    print sorted([(char, prob) for char, prob in char_probabilities[i].iteritems()], key=lambda x: x[1], reverse=True)[:10]"
   ]
  },
  {
   "cell_type": "code",
   "execution_count": null,
   "metadata": {
    "collapsed": true
   },
   "outputs": [],
   "source": []
  }
 ],
 "metadata": {
  "kernelspec": {
   "display_name": "Python 2",
   "language": "python",
   "name": "python2"
  },
  "language_info": {
   "codemirror_mode": {
    "name": "ipython",
    "version": 2
   },
   "file_extension": ".py",
   "mimetype": "text/x-python",
   "name": "python",
   "nbconvert_exporter": "python",
   "pygments_lexer": "ipython2",
   "version": "2.7.3"
  }
 },
 "nbformat": 4,
 "nbformat_minor": 0
}
