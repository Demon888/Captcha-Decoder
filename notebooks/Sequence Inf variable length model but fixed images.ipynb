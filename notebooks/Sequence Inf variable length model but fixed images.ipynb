{
 "cells": [
  {
   "cell_type": "code",
   "execution_count": 1,
   "metadata": {
    "collapsed": false
   },
   "outputs": [
    {
     "name": "stderr",
     "output_type": "stream",
     "text": [
      "/usr/lib/pymodules/python2.7/matplotlib/__init__.py:923: UserWarning:  This call to matplotlib.use() has no effect\n",
      "because the the backend has already been chosen;\n",
      "matplotlib.use() must be called *before* pylab, matplotlib.pyplot,\n",
      "or matplotlib.backends is imported for the first time.\n",
      "\n",
      "  if warn: warnings.warn(_use_error_msg)\n"
     ]
    }
   ],
   "source": [
    "%matplotlib inline\n",
    "\n",
    "import matplotlib as mpl\n",
    "mpl.use('Agg')\n",
    "\n",
    "from matplotlib.pyplot import imshow"
   ]
  },
  {
   "cell_type": "code",
   "execution_count": 19,
   "metadata": {
    "collapsed": false
   },
   "outputs": [
    {
     "ename": "SyntaxError",
     "evalue": "invalid syntax (<ipython-input-19-0d25ac69caae>, line 14)",
     "output_type": "error",
     "traceback": [
      "\u001b[1;36m  File \u001b[1;32m\"<ipython-input-19-0d25ac69caae>\"\u001b[1;36m, line \u001b[1;32m14\u001b[0m\n\u001b[1;33m    .captcha_cracker.CaptchaCracker(\u001b[0m\n\u001b[1;37m    ^\u001b[0m\n\u001b[1;31mSyntaxError\u001b[0m\u001b[1;31m:\u001b[0m invalid syntax\n"
     ]
    }
   ],
   "source": [
    "import model\n",
    "from model.captcha_cracker import CaptchaCracker\n",
    "\n",
    "import theano\n",
    "theano.config.floatX = \"float64\"\n",
    "\n",
    "#lstm_model_params_prefix = '/home/geetika/captcha/dataset_ssd_1T/simpledataset_nvocab/lstm_variable_run_2015_11_15_00_10_51.npy.npz'\n",
    "#cracker = model.captcha_cracker.CaptchaCracker(\n",
    "#    lstm_model_params_prefix, includeCapital=False, multi_chars=True,\n",
    "#    rescale_in_preprocessing=False, num_rnn_steps=6, use_mask_input=True)\n",
    "\n",
    "lstm_model_params_prefix = '/home/geetika/captcha/dataset_ssd_1T/complex_mix_dataset_nvocab/lstm_variable_2015_11_14_23_55_04.npy.npz'\n",
    "cracker = model.captcha_cracker.CaptchaCracker(\n",
    "    lstm_model_params_prefix, includeCapital=True, multi_chars=True,\n",
    "    rescale_in_preprocessing=False, num_rnn_steps=8, use_mask_input=True)\n",
    "\n",
    "import os\n",
    "from PIL import Image\n",
    "import numpy\n",
    "import random\n",
    "\n",
    "\n",
    "image_dir = '/home/geetika/captcha/dataset_ssd_1T/variable_dataset/'\n",
    "import model\n",
    "files = os.listdir(image_dir)"
   ]
  },
  {
   "cell_type": "code",
   "execution_count": 64,
   "metadata": {
    "collapsed": false
   },
   "outputs": [
    {
     "name": "stdout",
     "output_type": "stream",
     "text": [
      "input:   4 uqRq\n",
      "output:  4 uqRq\n",
      "predicted_char= u\n",
      "[('u', 0.42285930138967431), ('q', 0.14533182819981336), ('g', 0.085059159537294357), ('p', 0.072693900343231116), ('a', 0.038920571488376424), ('d', 0.027579614719523242), ('c', 0.022016848746662852), ('o', 0.019440618855806471), ('n', 0.019143902153992962), ('t', 0.01289392047982079)]\n",
      "predicted_char= q\n",
      "[('q', 0.2645811183529419), ('p', 0.20441086771994627), ('g', 0.11099980329994885), ('u', 0.10649365414683826), ('n', 0.073025215964893753), ('a', 0.062499957140616569), ('m', 0.035388822829458565), ('o', 0.020369140577231954), ('r', 0.017465321754255594), ('d', 0.013989458395145041)]\n",
      "predicted_char= R\n",
      "[('R', 0.66454283528890434), ('F', 0.086822329989087788), ('P', 0.078791738215629167), ('K', 0.040575062666387565), ('B', 0.039331566727835332), ('H', 0.010054895554000531), ('0', 0.0087453559851172358), ('N', 0.008009930374074329), ('M', 0.0076274147025518543), ('Q', 0.0071979553093853574)]\n",
      "predicted_char= q\n",
      "[('q', 0.45855665687686942), ('g', 0.25315344915064064), ('p', 0.049145566807624066), ('o', 0.044645061291359395), ('c', 0.040171683109481403), ('u', 0.028522047550560248), ('a', 0.025065284830671074), ('e', 0.021392532722234254), ('x', 0.014863043756446787), ('d', 0.010692983118863962)]\n",
      "predicted_char= unk\n",
      "[('unk', 0.98078711850685374), ('u', 0.0036103407567884441), ('r', 0.0025321895459337394), ('q', 0.0014402720754650119), ('n', 0.0013256590181694584), ('j', 0.0012697610123690642), ('i', 0.0010683628927978628), ('l', 0.0010306752391564184), ('t', 0.00078408311571136658), ('I', 0.00074310193383450888)]\n",
      "predicted_char= unk\n",
      "[('unk', 0.9997242409127397), ('I', 7.1278068985500178e-05), ('l', 3.2936787079754675e-05), ('r', 2.5601407945432342e-05), ('i', 2.3031080530515806e-05), ('F', 1.5070272499769971e-05), ('u', 1.1554168020694239e-05), ('j', 9.4412789680152429e-06), ('J', 8.5988113679852509e-06), ('T', 7.7550204878472834e-06)]\n",
      "predicted_char= unk\n",
      "[('unk', 0.99995932009321609), ('I', 1.0033456600826239e-05), ('l', 5.3207209813417807e-06), ('r', 4.2979598940099939e-06), ('i', 3.1251848398809845e-06), ('F', 2.0629744089744715e-06), ('c', 1.5980261443632947e-06), ('j', 1.1423354913520993e-06), ('J', 1.086275178109284e-06), ('t', 1.0517709323543279e-06)]\n",
      "predicted_char= unk\n",
      "[('unk', 0.9999812377216537), ('I', 4.2593625850126262e-06), ('l', 2.8275786500751044e-06), ('r', 2.2024587535911759e-06), ('i', 1.5761644411391092e-06), ('F', 9.166053405893591e-07), ('c', 6.385291804091008e-07), ('j', 6.3578910815061707e-07), ('J', 5.3888798995954443e-07), ('t', 4.9278907598466165e-07)]\n"
     ]
    },
    {
     "data": {
      "image/png": "[encoded data removed]",
      "text/plain": [
       "<matplotlib.figure.Figure at 0x10b7c310>"
      ]
     },
     "metadata": {},
     "output_type": "display_data"
    }
   ],
   "source": [
    "file_path = os.path.join(image_dir, random.choice(files))\n",
    "input = (file_path.rsplit(\"/\", 1)[1].split(\"_\")[1].split(\".jpg\")[0])\n",
    "print \"input:  \",len(input),input\n",
    "#Converted image.\n",
    "imshow(numpy.asarray(Image.open(file_path).convert('L')))\n",
    "predicted_chars, char_probabilities = cracker.InferFromImagePath(file_path)\n",
    "output = \"\".join(x for x in predicted_chars if x != 'unk' )\n",
    "print \"output: \", len(output), output\n",
    "for i in range(len(predicted_chars)): \n",
    "    print 'predicted_char= {0}'.format(predicted_chars[i]) \n",
    "    print sorted([(char, prob) for char, prob in char_probabilities[i].iteritems()], key=lambda x: x[1], reverse=True)[:10]"
   ]
  },
  {
   "cell_type": "code",
   "execution_count": null,
   "metadata": {
    "collapsed": true
   },
   "outputs": [],
   "source": []
  },
  {
   "cell_type": "code",
   "execution_count": null,
   "metadata": {
    "collapsed": true
   },
   "outputs": [],
   "source": []
  }
 ],
 "metadata": {
  "kernelspec": {
   "display_name": "Python 2",
   "language": "python",
   "name": "python2"
  },
  "language_info": {
   "codemirror_mode": {
    "name": "ipython",
    "version": 2
   },
   "file_extension": ".py",
   "mimetype": "text/x-python",
   "name": "python",
   "nbconvert_exporter": "python",
   "pygments_lexer": "ipython2",
   "version": "2.7.3"
  }
 },
 "nbformat": 4,
 "nbformat_minor": 0
}
