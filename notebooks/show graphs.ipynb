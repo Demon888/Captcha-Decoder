{
 "cells": [
  {
   "cell_type": "code",
   "execution_count": 14,
   "metadata": {
    "collapsed": false
   },
   "outputs": [],
   "source": [
    "%matplotlib inline\n",
    "\n",
    "import matplotlib as mpl\n",
    "mpl.use('Agg')\n",
    "import matplotlib.pyplot as plt\n",
    "from matplotlib.pyplot import imshow"
   ]
  },
  {
   "cell_type": "code",
   "execution_count": 15,
   "metadata": {
    "collapsed": false
   },
   "outputs": [],
   "source": [
    "import glob\n",
    "from PIL import Image\n",
    "import numpy\n",
    "import random\n",
    "import os\n",
    "\n",
    "#PYTHON_CREATE_FILE = \"/home/geetika/Captcha-Decoder/model/create_graph.py\"\n",
    "import model.create_graph as cg"
   ]
  },
  {
   "cell_type": "code",
   "execution_count": null,
   "metadata": {
    "collapsed": false
   },
   "outputs": [],
   "source": [
    "direc  = \"/home/sujeetb/geetika/dataset/\"\n",
    "#direc  = \"/home/geetika/captcha/dataset_ssd_1T/website_data_nvocab/\"\n",
    "prefix = \"training_acc\"\n",
    "prefix2 = \"training_time\"\n",
    "prefix3 = 'training_loss'\n",
    "prefix4 = 'testing_acc'\n",
    "variable = prefix3\n",
    "list_of_files = cg.get_list_of_files(direc, variable)\n",
    "'''\n",
    "list_of_files = [\"/home/geetika/captcha/dataset_ssd_1T/complex_mix_dataset_nvocab/_training_loss_lstm_more_lstm.csv\",\n",
    "                  \"/home/geetika/captcha/dataset_ssd_1T/complex_mix_dataset_nvocab/_training_loss_lstm_less_lstm.csv\",\n",
    "                \"/home/geetika/captcha/dataset_ssd_1T/complex_mix_dataset_nvocab/_training_loss_lstm_without_mask.csv\",\n",
    "         \"/home/geetika/captcha/dataset_ssd_1T/complex_mix_dataset_nvocab/_training_loss_lstm_more_dense.csv\",\n",
    "            \"/home/geetika/captcha/dataset_ssd_1T/complex_mix_dataset_nvocab/_training_loss_lstm_bidirec.csv\"]\n",
    "'''\n",
    "list_axis = cg.listof_axis(direc,list_of_files)\n"
   ]
  },
  {
   "cell_type": "code",
   "execution_count": null,
   "metadata": {
    "collapsed": false,
    "scrolled": true
   },
   "outputs": [],
   "source": [
    "from IPython.display import Image as im\n",
    "prefix_list = []\n",
    "plt.xlim([1,500000])\n",
    "for val in list_axis:\n",
    "        sub, x_axis, y_axis, z_axis = val\n",
    "        if \"/\" in sub:\n",
    "            prefix = sub.rsplit(\"/\",1)[1]\n",
    "        else:\n",
    "            prefix = sub\n",
    "        prefix_list.append(prefix)\n",
    "        plt.plot(x_axis,y_axis, label=prefix)\n",
    "        plt.xlabel(\"number of images\")\n",
    "        plt.ylabel(variable)\n",
    "        #plt.ylabel(\"character accuracy\")\n",
    "        \n",
    "plt.legend(prefix_list, loc='best',bbox_to_anchor=(1, 0.5))\n",
    "plt.show()      \n",
    "        \n",
    "    \n",
    "        "
   ]
  },
  {
   "cell_type": "code",
   "execution_count": null,
   "metadata": {
    "collapsed": false
   },
   "outputs": [],
   "source": [
    "prefix_list = []\n",
    "#plt.xlim([100000,2500000])\n",
    "for val in list_axis:\n",
    "        sub, x_axis, y_axis, z_axis = val\n",
    "        if \"/\" in sub:\n",
    "            prefix = sub.rsplit(\"/\",1)[1]\n",
    "        else:\n",
    "            prefix = sub\n",
    "        prefix_list.append(prefix)\n",
    "        plt.plot(x_axis,z_axis, label=prefix)\n",
    "        plt.xlabel(\"number of images\")\n",
    "        plt.ylabel(\"sequence accuracy\")\n",
    "        \n",
    "plt.legend(prefix_list, loc='best',bbox_to_anchor=(1, 0.5))\n",
    "plt.show()      \n",
    "        "
   ]
  },
  {
   "cell_type": "code",
   "execution_count": null,
   "metadata": {
    "collapsed": true
   },
   "outputs": [],
   "source": []
  }
 ],
 "metadata": {
  "kernelspec": {
   "display_name": "Python 2",
   "language": "python",
   "name": "python2"
  },
  "language_info": {
   "codemirror_mode": {
    "name": "ipython",
    "version": 2
   },
   "file_extension": ".py",
   "mimetype": "text/x-python",
   "name": "python",
   "nbconvert_exporter": "python",
   "pygments_lexer": "ipython2",
   "version": "2.7.6"
  }
 },
 "nbformat": 4,
 "nbformat_minor": 0
}
